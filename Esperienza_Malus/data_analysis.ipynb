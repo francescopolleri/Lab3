{
 "cells": [
  {
   "cell_type": "code",
   "execution_count": 65,
   "id": "bce39f6d",
   "metadata": {},
   "outputs": [],
   "source": [
    "import numpy as np\n",
    "import matplotlib.pyplot as plt\n",
    "from ROOT import *\n",
    "import os\n",
    "from iminuit import Minuit\n",
    "from iminuit.cost import LeastSquares"
   ]
  },
  {
   "cell_type": "code",
   "execution_count": 78,
   "id": "47793cb4",
   "metadata": {},
   "outputs": [
    {
     "name": "stdout",
     "output_type": "stream",
     "text": [
      "['30.2000.0.lvm', '80.2000.0.lvm', '50.2000.0.lvm', '40.2000.0.lvm', '90.2000.0.lvm', '70.2000.0.lvm', '20.2000.0.lvm', '10.2000.0.lvm', '100.2000.0.lvm', '60.2000.0.lvm']\n",
      "[1.15726221 4.62411908 0.06708883 0.57431725 3.93886614 4.50083677\n",
      " 1.04615064 0.06982967 0.52296585 3.86931   ]\n"
     ]
    }
   ],
   "source": [
    "def rd_data(str):\n",
    "    arr0=np.array([])\n",
    "    for line in open(str):\n",
    "        d=line.split()\n",
    "        if len(d) != 1:\n",
    "            continue\n",
    "        arr0=np.append(arr0,float(d[0]))\n",
    "    return arr0  \n",
    "\n",
    "main_path=os.getcwd()\n",
    "air_path=main_path+'/data/data_air'\n",
    "\n",
    "for folder_path,folders,files in os.walk(air_path):\n",
    "    print(files)\n",
    "\n",
    "names=sorted(files)\n",
    "\n",
    "N=len(names)\n",
    "items={\n",
    "    f'array{num+1}':[] for num in range(N)\n",
    "}\n",
    "\n",
    "mean_values=np.array([])\n",
    "\n",
    "for i in range(0,N):\n",
    "    items[i]=rd_data(air_path+'/'+names[i])\n",
    "    mean_values=np.append(mean_values,items[i].mean())\n",
    "    \n",
    "print(mean_values)\n",
    "\n",
    "mean_values[1],mean_values[9]=mean_values[9],mean_values[1] #swapping 2nd and last term because sorting files, 100 comes after 10 "
   ]
  },
  {
   "cell_type": "code",
   "execution_count": null,
   "id": "339f74b5",
   "metadata": {},
   "outputs": [],
   "source": []
  }
 ],
 "metadata": {
  "kernelspec": {
   "display_name": "Python 3 (ipykernel)",
   "language": "python",
   "name": "python3"
  },
  "language_info": {
   "codemirror_mode": {
    "name": "ipython",
    "version": 3
   },
   "file_extension": ".py",
   "mimetype": "text/x-python",
   "name": "python",
   "nbconvert_exporter": "python",
   "pygments_lexer": "ipython3",
   "version": "3.8.10"
  }
 },
 "nbformat": 4,
 "nbformat_minor": 5
}
