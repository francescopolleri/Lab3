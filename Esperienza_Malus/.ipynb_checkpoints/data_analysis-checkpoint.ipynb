{
 "cells": [
  {
   "cell_type": "code",
   "execution_count": 8,
   "id": "bce39f6d",
   "metadata": {},
   "outputs": [],
   "source": [
    "import numpy as np\n",
    "import matplotlib.pyplot as plt\n",
    "from ROOT import *\n",
    "import os\n",
    "from iminuit import Minuit\n",
    "from iminuit.cost import LeastSquares"
   ]
  },
  {
   "cell_type": "code",
   "execution_count": 59,
   "id": "c6ae1354",
   "metadata": {},
   "outputs": [],
   "source": [
    "def rd_data(str):\n",
    "    arr0=np.array([])\n",
    "    for line in open(str):\n",
    "        d=line.split()\n",
    "        if len(d) != 1:\n",
    "            continue\n",
    "        arr0=np.append(arr0,float(d[0]))\n",
    "    return arr0  \n",
    "\n",
    "\n",
    "def getDATA(str):\n",
    "    main_path=os.getcwd()\n",
    "    \n",
    "    for folder_path,folders,files in os.walk(main_path+str):\n",
    "        a=1\n",
    "    \n",
    "    N=len(files)\n",
    "    angles=np.array([])\n",
    "    for i in range(0,N):\n",
    "        arr=files[i].split('.')\n",
    "        angles=np.append(angles,float(arr[0]))\n",
    "    \n",
    "    items={\n",
    "        f'array{num+1}':[] for num in range(N)\n",
    "    }\n",
    "    \n",
    "    mean_values=np.array([])\n",
    "    std_devs=np.array([])\n",
    "    for i in range(0,N):\n",
    "        items[i]=rd_data(main_path+str+'/'+files[i])\n",
    "        mean_values=np.append(mean_values,items[i].mean())\n",
    "        std_devs=np.append(std_devs,items[i].std())\n",
    "         \n",
    "    angles,mean_values=zip(*sorted(zip(angles,mean_values)))\n",
    "    angles=list(angles); mean_values=list(mean_values)  ##devo convertire in float\n",
    "    for i in range(0,len(angles)):\n",
    "        angles[i]=float(angles[i]); mean_values[i]=float(mean_values[i])\n",
    "\n",
    "    return np.array(angles)*np.pi/180,np.array(mean_values),std_devs\n",
    "\n",
    "def plot_and_fit(arr0,arr1,C):\n",
    "    angles=np.linspace(1.4,2.2,100)\n",
    "    def model(x,p):\n",
    "        return p[0]*np.cos(x+p[1])**2+p[2]\n",
    "    fnc = LeastSquares(arr0, arr1, C, model)\n",
    "    m = Minuit(fnc, (2,-2, 0))\n",
    "    m.migrad()\n",
    "    print(m)\n",
    "    fig=plt.figure()\n",
    "    plt.errorbar(arr0,arr1,yerr=C,color='black',fmt='o')\n",
    "    plt.plot(angles,model(angles,m.values),color='r')\n",
    "    plt.show()\n",
    "    \n",
    "    return fig\n",
    "\n"
   ]
  },
  {
   "cell_type": "code",
   "execution_count": 60,
   "id": "553c8b8a",
   "metadata": {},
   "outputs": [
    {
     "data": {
      "image/png": "[encoded data removed]",
      "text/plain": [
       "<Figure size 432x288 with 1 Axes>"
      ]
     },
     "metadata": {
      "needs_background": "light"
     },
     "output_type": "display_data"
    },
    {
     "data": {
      "image/png": "[encoded data removed]",
      "text/plain": [
       "<Figure size 432x288 with 1 Axes>"
      ]
     },
     "metadata": {
      "needs_background": "light"
     },
     "output_type": "display_data"
    },
    {
     "name": "stdout",
     "output_type": "stream",
     "text": [
      "┌─────────────────────────────────────────────────────────────────────────┐\n",
      "│                                Migrad                                   │\n",
      "├──────────────────────────────────┬──────────────────────────────────────┤\n",
      "│ FCN = 8.168e+05 (chi2/ndof = 204203.2)│              Nfcn = 121              │\n",
      "│ EDM = 1.45e-08 (Goal: 0.0002)    │                                      │\n",
      "├──────────────────────────────────┼──────────────────────────────────────┤\n",
      "│          Valid Minimum           │        No Parameters at limit        │\n",
      "├──────────────────────────────────┼──────────────────────────────────────┤\n",
      "│ Below EDM threshold (goal x 10)  │           Below call limit           │\n",
      "├───────────────┬──────────────────┼───────────┬─────────────┬────────────┤\n",
      "│  Covariance   │     Hesse ok     │ Accurate  │  Pos. def.  │ Not forced │\n",
      "└───────────────┴──────────────────┴───────────┴─────────────┴────────────┘\n",
      "┌───┬──────┬───────────┬───────────┬────────────┬────────────┬─────────┬─────────┬───────┐\n",
      "│   │ Name │   Value   │ Hesse Err │ Minos Err- │ Minos Err+ │ Limit-  │ Limit+  │ Fixed │\n",
      "├───┼──────┼───────────┼───────────┼────────────┼────────────┼─────────┼─────────┼───────┤\n",
      "│ 0 │ x0   │  11.009   │   0.009   │            │            │         │         │       │\n",
      "│ 1 │ x1   │ -1.75878  │  0.00014  │            │            │         │         │       │\n",
      "│ 2 │ x2   │  -8.463   │   0.008   │            │            │         │         │       │\n",
      "└───┴──────┴───────────┴───────────┴────────────┴────────────┴─────────┴─────────┴───────┘\n",
      "┌────┬───────────────────────────────┐\n",
      "│    │        x0        x1        x2 │\n",
      "├────┼───────────────────────────────┤\n",
      "│ x0 │  8.91e-05  9.23e-08  -7.9e-05 │\n",
      "│ x1 │  9.23e-08  1.84e-08 -8.52e-08 │\n",
      "│ x2 │  -7.9e-05 -8.52e-08  7.08e-05 │\n",
      "└────┴───────────────────────────────┘\n"
     ]
    },
    {
     "data": {
      "image/png": "[encoded data removed]",
      "text/plain": [
       "<Figure size 432x288 with 1 Axes>"
      ]
     },
     "metadata": {
      "needs_background": "light"
     },
     "output_type": "display_data"
    }
   ],
   "source": [
    "\n",
    "##DATI ACQUA\n",
    "plt.plot(getDATA('/data/data_H2O')[0],getDATA('/data/data_H2O')[1],'bo')   \n",
    "plt.show()\n",
    "\n",
    "##DATI ARIA\n",
    "plt.plot(getDATA('/data/data_air')[0],getDATA('/data/data_air')[1],'bo')   \n",
    "plt.show()\n",
    "\n",
    "\n",
    "figZ1=plot_and_fit(getDATA('/data/data_Z1')[0],getDATA('/data/data_Z1')[1],getDATA('/data/data_Z1')[2][0])"
   ]
  },
  {
   "cell_type": "code",
   "execution_count": 14,
   "id": "216500ea",
   "metadata": {},
   "outputs": [
    {
     "data": {
      "image/png": "[encoded data removed]",
      "text/plain": [
       "<Figure size 432x288 with 1 Axes>"
      ]
     },
     "metadata": {
      "needs_background": "light"
     },
     "output_type": "display_data"
    },
    {
     "data": {
      "image/png": "[encoded data removed]",
      "text/plain": [
       "<Figure size 432x288 with 1 Axes>"
      ]
     },
     "metadata": {
      "needs_background": "light"
     },
     "output_type": "display_data"
    },
    {
     "data": {
      "text/plain": [
       "[<matplotlib.lines.Line2D at 0x7faa54e882e0>]"
      ]
     },
     "execution_count": 14,
     "metadata": {},
     "output_type": "execute_result"
    },
    {
     "data": {
      "image/png": "[encoded data removed]",
      "text/plain": [
       "<Figure size 432x288 with 4 Axes>"
      ]
     },
     "metadata": {
      "needs_background": "light"
     },
     "output_type": "display_data"
    }
   ],
   "source": [
    "fig,ax0=plt.subplots()\n",
    "ax1 = ax0.twinx()\n",
    "ax2 = ax0.twinx()\n",
    "ax3 = ax0.twinx()\n",
    "ax0.plot(getDATA('/data/data_Z1')[0],getDATA('/data/data_Z1')[1],'bo')\n",
    "ax1.plot(getDATA('/data/data_Z2')[0],getDATA('/data/data_Z2')[1],'ro')\n",
    "ax2.plot(getDATA('/data/data_Z4')[0],getDATA('/data/data_Z4')[1],'go')\n",
    "ax3.plot(getDATA('/data/data_Z8')[0],getDATA('/data/data_Z8')[1],'yo')"
   ]
  }
 ],
 "metadata": {
  "kernelspec": {
   "display_name": "Python 3 (ipykernel)",
   "language": "python",
   "name": "python3"
  },
  "language_info": {
   "codemirror_mode": {
    "name": "ipython",
    "version": 3
   },
   "file_extension": ".py",
   "mimetype": "text/x-python",
   "name": "python",
   "nbconvert_exporter": "python",
   "pygments_lexer": "ipython3",
   "version": "3.8.10"
  }
 },
 "nbformat": 4,
 "nbformat_minor": 5
}
