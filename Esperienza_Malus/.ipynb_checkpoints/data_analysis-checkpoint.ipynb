{
 "cells": [
  {
   "cell_type": "code",
   "execution_count": 1,
   "id": "bce39f6d",
   "metadata": {},
   "outputs": [
    {
     "name": "stdout",
     "output_type": "stream",
     "text": [
      "Welcome to JupyROOT 6.24/02\n"
     ]
    }
   ],
   "source": [
    "import numpy as np\n",
    "import matplotlib.pyplot as plt\n",
    "from ROOT import *\n",
    "import os\n",
    "from iminuit import Minuit\n",
    "from iminuit.cost import LeastSquares"
   ]
  },
  {
   "cell_type": "code",
   "execution_count": 6,
   "id": "216500ea",
   "metadata": {},
   "outputs": [
    {
     "data": {
      "image/png": "[encoded data removed]",
      "text/plain": [
       "<Figure size 432x288 with 1 Axes>"
      ]
     },
     "metadata": {
      "needs_background": "light"
     },
     "output_type": "display_data"
    },
    {
     "data": {
      "image/png": "[encoded data removed]",
      "text/plain": [
       "<Figure size 432x288 with 1 Axes>"
      ]
     },
     "metadata": {
      "needs_background": "light"
     },
     "output_type": "display_data"
    }
   ],
   "source": [
    "def rd_data(str):\n",
    "    arr0=np.array([])\n",
    "    for line in open(str):\n",
    "        d=line.split()\n",
    "        if len(d) != 1:\n",
    "            continue\n",
    "        arr0=np.append(arr0,float(d[0]))\n",
    "    return arr0  \n",
    "\n",
    "\n",
    "def getDATA(str):\n",
    "    main_path=os.getcwd()\n",
    "    \n",
    "    for folder_path,folders,files in os.walk(main_path+str):\n",
    "        a=1\n",
    "    \n",
    "    N=len(files)\n",
    "    angles=np.array([])\n",
    "    for i in range(0,N):\n",
    "        arr=files[i].split('.')\n",
    "        angles=np.append(angles,float(arr[0]))\n",
    "    \n",
    "    items={\n",
    "        f'array{num+1}':[] for num in range(N)\n",
    "    }\n",
    "    \n",
    "    mean_values=np.array([])\n",
    "    for i in range(0,N):\n",
    "        items[i]=rd_data(main_path+str+'/'+files[i])\n",
    "        mean_values=np.append(mean_values,items[i].mean())\n",
    "        \n",
    "    return angles*np.pi/180, mean_values\n",
    "\n",
    "\n",
    "\n",
    "##DATI ACQUA\n",
    "plt.plot(getDATA('/data/data_H2O')[0],getDATA('/data/data_H2O')[1],'bo')   \n",
    "plt.show()\n",
    "\n",
    "##DATI ARIA\n",
    "plt.plot(getDATA('/data/data_air')[0],getDATA('/data/data_air')[1],'bo')   \n",
    "plt.show()"
   ]
  },
  {
   "cell_type": "code",
   "execution_count": null,
   "id": "339f74b5",
   "metadata": {},
   "outputs": [],
   "source": [
    "paths=['/data/dataZ1','data/dataZ2','data/dataZ4','data/dataZ8']\n",
    "\n",
    "for j in len(paths):\n",
    "    "
   ]
  }
 ],
 "metadata": {
  "kernelspec": {
   "display_name": "Python 3 (ipykernel)",
   "language": "python",
   "name": "python3"
  },
  "language_info": {
   "codemirror_mode": {
    "name": "ipython",
    "version": 3
   },
   "file_extension": ".py",
   "mimetype": "text/x-python",
   "name": "python",
   "nbconvert_exporter": "python",
   "pygments_lexer": "ipython3",
   "version": "3.8.10"
  }
 },
 "nbformat": 4,
 "nbformat_minor": 5
}
