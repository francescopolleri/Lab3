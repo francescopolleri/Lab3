{
 "cells": [
  {
   "cell_type": "code",
   "execution_count": 2,
   "id": "bce39f6d",
   "metadata": {},
   "outputs": [
    {
     "name": "stdout",
     "output_type": "stream",
     "text": [
      "Welcome to JupyROOT 6.24/02\n"
     ]
    }
   ],
   "source": [
    "import numpy as np\n",
    "import matplotlib.pyplot as plt\n",
    "from ROOT import *\n",
    "import os\n",
    "from iminuit import Minuit\n",
    "from iminuit.cost import LeastSquares"
   ]
  },
  {
   "cell_type": "code",
   "execution_count": 5,
   "id": "47793cb4",
   "metadata": {},
   "outputs": [
    {
     "name": "stdout",
     "output_type": "stream",
     "text": [
      "['090.2000.0.lvm', '030.2000.0.lvm', '050.2000.0.lvm', '040.2000.0.lvm', '060.2000.0.lvm', '080.2000.0.lvm', '010.2000.0.lvm', '020.2000.0.lvm', '070.2000.0.lvm', '100.2000.0.lvm']\n",
      "['010.2000.0.lvm', '020.2000.0.lvm', '030.2000.0.lvm', '040.2000.0.lvm', '050.2000.0.lvm', '060.2000.0.lvm', '070.2000.0.lvm', '080.2000.0.lvm', '090.2000.0.lvm', '100.2000.0.lvm']\n",
      "[1.15726221 0.06708883 0.57431725 3.93886614 4.50083677 1.04615064\n",
      " 0.06982967 0.52296585 3.86931    4.62411908]\n"
     ]
    },
    {
     "data": {
      "image/png": "[encoded data removed]",
      "text/plain": [
       "<Figure size 432x288 with 1 Axes>"
      ]
     },
     "metadata": {
      "needs_background": "light"
     },
     "output_type": "display_data"
    }
   ],
   "source": [
    "def rd_data(str):\n",
    "    arr0=np.array([])\n",
    "    for line in open(str):\n",
    "        d=line.split()\n",
    "        if len(d) != 1:\n",
    "            continue\n",
    "        arr0=np.append(arr0,float(d[0]))\n",
    "    return arr0  \n",
    "\n",
    "main_path=os.getcwd()\n",
    "air_path=main_path+'/data/data_air'\n",
    "\n",
    "for folder_path,folders,files in os.walk(air_path):\n",
    "    print(files)\n",
    "\n",
    "names=sorted(files)\n",
    "print(names)\n",
    "\n",
    "N=len(names)\n",
    "items={\n",
    "    f'array{num+1}':[] for num in range(N)\n",
    "}\n",
    "\n",
    "mean_values=np.array([])\n",
    "\n",
    "for i in range(0,N):\n",
    "    items[i]=rd_data(air_path+'/'+names[i])\n",
    "    mean_values=np.append(mean_values,items[i].mean())\n",
    "    \n",
    "print(mean_values)\n",
    "\n",
    "angles=np.linspace(10,100,10)*np.pi/180\n",
    "plt.plot(angles,mean_values)\n",
    "plt.show()"
   ]
  },
  {
   "cell_type": "code",
   "execution_count": null,
   "id": "339f74b5",
   "metadata": {},
   "outputs": [],
   "source": []
  }
 ],
 "metadata": {
  "kernelspec": {
   "display_name": "Python 3 (ipykernel)",
   "language": "python",
   "name": "python3"
  },
  "language_info": {
   "codemirror_mode": {
    "name": "ipython",
    "version": 3
   },
   "file_extension": ".py",
   "mimetype": "text/x-python",
   "name": "python",
   "nbconvert_exporter": "python",
   "pygments_lexer": "ipython3",
   "version": "3.8.10"
  }
 },
 "nbformat": 4,
 "nbformat_minor": 5
}
