{
 "cells": [
  {
   "cell_type": "code",
   "execution_count": 1,
   "id": "7b4b0b0e",
   "metadata": {},
   "outputs": [
    {
     "name": "stdout",
     "output_type": "stream",
     "text": [
      "Welcome to JupyROOT 6.24/02\n"
     ]
    }
   ],
   "source": [
    "import numpy as np\n",
    "from numpy import fft\n",
    "from ROOT import *\n",
    "import matplotlib.pyplot as plt"
   ]
  },
  {
   "cell_type": "code",
   "execution_count": 2,
   "id": "fd06ebdc",
   "metadata": {},
   "outputs": [
    {
     "name": "stdout",
     "output_type": "stream",
     "text": [
      "[1.82321195 1.7194992  1.64647055 1.5610316  1.46332625 1.25259455\n",
      " 1.0277186  0.8179099  0.65372075 0.4523348  0.30839645 0.35597265\n",
      " 1.06342965] [0.00347451 0.00924793 0.04475973 0.00894418 0.00734441 0.00326784\n",
      " 0.00110046 0.00028621 0.00176041 0.00124756 0.00048493 0.0022237\n",
      " 0.00234603]\n",
      "[0.42586034 0.5131268  0.60039326 0.68765973 0.77492619 0.86219265\n",
      " 0.94945911 1.03672558 1.12399204 1.2112585  1.29852496 1.38579143\n",
      " 1.47305789]\n"
     ]
    }
   ],
   "source": [
    "def rd_data(str):\n",
    "    arr0=np.array([])\n",
    "    for line in open(str):\n",
    "        d=line.split()\n",
    "        arr0=np.append(arr0,np.abs(float(d[0])))\n",
    "    return arr0\n",
    "\n",
    "filenames=['data.24.40.dat','data.29.40.dat','data.34.40.dat','data.39.40.dat','data.44.40.dat','data.49.40.dat',\n",
    "          'data.54.40.dat','data.59.40.dat','data.64.40.dat','data.69.40.dat','data.74.40.dat','data.79.40.dat',\n",
    "          'data.84.40.dat']\n",
    "mean_value=np.array([])\n",
    "rms_value=np.array([])\n",
    "angle_value=np.array([])\n",
    "\n",
    "for i in range (0,len(filenames)):\n",
    "    mean_value=np.append(mean_value,rd_data(filenames[i]).mean())\n",
    "    rms_value=np.append(rms_value,rd_data(filenames[i]).std())\n",
    "    \n",
    "for i in range (0,len(filenames)):\n",
    "    angle_value=np.append(angle_value,float(filenames[i][5:-4])*np.pi/180)\n",
    "    \n",
    "print(mean_value,rms_value)\n",
    "print(angle_value)"
   ]
  },
  {
   "cell_type": "code",
   "execution_count": 4,
   "id": "b62fe517",
   "metadata": {},
   "outputs": [
    {
     "name": "stdout",
     "output_type": "stream",
     "text": [
      "┌─────────────────────────────────────────────────────────────────────────┐\n",
      "│                                Migrad                                   │\n",
      "├──────────────────────────────────┬──────────────────────────────────────┤\n",
      "│ FCN = 2.98e+05 (chi2/ndof = 29799.8)│              Nfcn = 84               │\n",
      "│ EDM = 2.59e-11 (Goal: 0.0002)    │                                      │\n",
      "├──────────────────────────────────┼──────────────────────────────────────┤\n",
      "│          Valid Minimum           │        No Parameters at limit        │\n",
      "├──────────────────────────────────┼──────────────────────────────────────┤\n",
      "│ Below EDM threshold (goal x 10)  │           Below call limit           │\n",
      "├───────────────┬──────────────────┼───────────┬─────────────┬────────────┤\n",
      "│  Covariance   │     Hesse ok     │ Accurate  │  Pos. def.  │ Not forced │\n",
      "└───────────────┴──────────────────┴───────────┴─────────────┴────────────┘\n",
      "┌───┬──────┬───────────┬───────────┬────────────┬────────────┬─────────┬─────────┬───────┐\n",
      "│   │ Name │   Value   │ Hesse Err │ Minos Err- │ Minos Err+ │ Limit-  │ Limit+  │ Fixed │\n",
      "├───┼──────┼───────────┼───────────┼────────────┼────────────┼─────────┼─────────┼───────┤\n",
      "│ 0 │ x0   │14.9938587690594│0.0000000000023│            │            │         │         │       │\n",
      "│ 1 │ x1   │ -249.8e-9 │  1.3e-9   │            │            │         │         │       │\n",
      "│ 2 │ x2   │  1.10595  │  0.00023  │            │            │         │         │       │\n",
      "└───┴──────┴───────────┴───────────┴────────────┴────────────┴─────────┴─────────┴───────┘\n",
      "┌────┬───────────────────────────────┐\n",
      "│    │        x0        x1        x2 │\n",
      "├────┼───────────────────────────────┤\n",
      "│ x0 │   5.4e-24 -4.62e-23 -2.82e-17 │\n",
      "│ x1 │ -4.62e-23  1.64e-18 -1.96e-14 │\n",
      "│ x2 │ -2.82e-17 -1.96e-14  5.33e-08 │\n",
      "└────┴───────────────────────────────┘\n"
     ]
    },
    {
     "data": {
      "image/png": "[encoded data removed]",
      "text/plain": [
       "<Figure size 432x288 with 1 Axes>"
      ]
     },
     "metadata": {
      "needs_background": "light"
     },
     "output_type": "display_data"
    }
   ],
   "source": [
    "from iminuit import Minuit\n",
    "from iminuit.cost import LeastSquares\n",
    "\n",
    "def modelS(x, p):\n",
    "    return p[1]*((np.sqrt(p[0]-(np.sin(x))**2)-np.cos(x))/(np.sqrt(p[0]-(np.sin(x))**2)+np.cos(x)))**2+p[2]\n",
    "\n",
    "def modelP(x,p):\n",
    "    return p[1]*((p[0]*np.cos(x)-np.sqrt(p[0]-np.sin(x)**2))/(p[0]*np.cos(x)+np.sqrt(p[0]-np.sin(x)**2)))**2+p[2]\n",
    "\n",
    "fnc = LeastSquares(mean_value, angle_value, rms_value, modelP)\n",
    "m = Minuit(fnc, (15, 4,0.2))\n",
    "m.migrad()\n",
    "print(m)\n",
    "\n",
    "plt.errorbar(angle_value,mean_value,yerr=rms_value,color='black',fmt='o')\n",
    "plt.plot(mean_value,modelP(mean_value,m.values),color='r')\n",
    "plt.show()"
   ]
  },
  {
   "cell_type": "code",
   "execution_count": null,
   "id": "76606478",
   "metadata": {},
   "outputs": [],
   "source": []
  }
 ],
 "metadata": {
  "kernelspec": {
   "display_name": "Python 3 (ipykernel)",
   "language": "python",
   "name": "python3"
  },
  "language_info": {
   "codemirror_mode": {
    "name": "ipython",
    "version": 3
   },
   "file_extension": ".py",
   "mimetype": "text/x-python",
   "name": "python",
   "nbconvert_exporter": "python",
   "pygments_lexer": "ipython3",
   "version": "3.8.10"
  }
 },
 "nbformat": 4,
 "nbformat_minor": 5
}
