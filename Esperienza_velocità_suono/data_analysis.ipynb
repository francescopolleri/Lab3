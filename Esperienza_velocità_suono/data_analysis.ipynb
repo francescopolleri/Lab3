{
 "cells": [
  {
   "cell_type": "code",
   "execution_count": 27,
   "id": "c7960051",
   "metadata": {},
   "outputs": [],
   "source": [
    "import numpy as np\n",
    "from numpy import fft\n",
    "from ROOT import *\n",
    "import matplotlib.pyplot as plt"
   ]
  },
  {
   "cell_type": "code",
   "execution_count": 9,
   "id": "86d398a1",
   "metadata": {},
   "outputs": [],
   "source": [
    "data_25_t=np.array([]); data_25_wn=np.array([]); data_25_r1=np.array([]); data_25_r2=np.array([])\n",
    "data_30_t=np.array([]); data_30_wn=np.array([]); data_30_r1=np.array([]); data_30_r2=np.array([])\n",
    "data_35_t=np.array([]); data_35_wn=np.array([]); data_35_r1=np.array([]); data_35_r2=np.array([])\n",
    "data_40_t=np.array([]); data_40_wn=np.array([]); data_40_r1=np.array([]); data_40_r2=np.array([])\n",
    "data_45_t=np.array([]); data_45_wn=np.array([]); data_45_r1=np.array([]); data_45_r2=np.array([])\n",
    "data_50_t=np.array([]); data_50_wn=np.array([]); data_50_r1=np.array([]); data_50_r2=np.array([])\n",
    "data_55_t=np.array([]); data_55_wn=np.array([]); data_55_r1=np.array([]); data_55_r2=np.array([])\n",
    "data_60_t=np.array([]); data_60_wn=np.array([]); data_60_r1=np.array([]); data_60_r2=np.array([])\n",
    "data_65_t=np.array([]); data_65_wn=np.array([]); data_65_r1=np.array([]); data_65_r2=np.array([])\n",
    "data_70_t=np.array([]); data_70_wn=np.array([]); data_70_r1=np.array([]); data_70_r2=np.array([])\n",
    "data_75_t=np.array([]); data_75_wn=np.array([]); data_75_r1=np.array([]); data_75_r2=np.array([])\n",
    "data_80_t=np.array([]); data_80_wn=np.array([]); data_80_r1=np.array([]); data_80_r2=np.array([])\n",
    "data_85_t=np.array([]); data_85_wn=np.array([]); data_85_r1=np.array([]); data_85_r2=np.array([])\n",
    "data_90_t=np.array([]); data_90_wn=np.array([]); data_90_r1=np.array([]); data_90_r2=np.array([])\n",
    "data_95_t=np.array([]); data_95_wn=np.array([]); data_95_r1=np.array([]); data_95_r2=np.array([])"
   ]
  },
  {
   "cell_type": "code",
   "execution_count": 10,
   "id": "24d8482e",
   "metadata": {},
   "outputs": [],
   "source": [
    "for line in open('25cm_1.00034.lvm'):\n",
    "    d=line.split()\n",
    "    if len(d)!=4:\n",
    "        continue\n",
    "    data_25_t=np.append(data_25_t,float(d[0])); data_25_wn=np.append(data_25_wn,float(d[1]))\n",
    "    data_25_r1=np.append(data_25_r1,float(d[2])); data_25_r2=np.append(data_25_r2,float(d[3]))"
   ]
  },
  {
   "cell_type": "code",
   "execution_count": 11,
   "id": "a4ede7b2",
   "metadata": {},
   "outputs": [],
   "source": [
    "for line in open('30cm_1.0005.lvm'):\n",
    "    d=line.split()\n",
    "    if len(d)!=4:\n",
    "        continue\n",
    "    data_30_t=np.append(data_30_t,float(d[0])); data_30_wn=np.append(data_30_wn,float(d[1]))\n",
    "    data_30_r1=np.append(data_30_r1,float(d[2])); data_30_r2=np.append(data_30_r2,float(d[3]))"
   ]
  },
  {
   "cell_type": "code",
   "execution_count": 12,
   "id": "aaf281ec",
   "metadata": {},
   "outputs": [],
   "source": [
    "for line in open('35cm_1.00064.lvm'):\n",
    "    d=line.split()\n",
    "    if len(d)!=4:\n",
    "        continue\n",
    "    data_35_t=np.append(data_35_t,float(d[0])); data_35_wn=np.append(data_35_wn,float(d[1]))\n",
    "    data_35_r1=np.append(data_35_r1,float(d[2])); data_35_r2=np.append(data_35_r2,float(d[3]))\n",
    " "
   ]
  },
  {
   "cell_type": "code",
   "execution_count": 13,
   "id": "c94d4386",
   "metadata": {},
   "outputs": [],
   "source": [
    "   \n",
    "for line in open('40cm_1.00078.lvm'):\n",
    "    d=line.split()\n",
    "    if len(d)!=4:\n",
    "        continue\n",
    "    data_40_t=np.append(data_40_t,float(d[0])); data_40_wn=np.append(data_40_wn,float(d[1]))\n",
    "    data_40_r1=np.append(data_40_r1,float(d[2])); data_40_r2=np.append(data_40_r2,float(d[3]))\n",
    "    "
   ]
  },
  {
   "cell_type": "code",
   "execution_count": 14,
   "id": "abbc24ef",
   "metadata": {},
   "outputs": [],
   "source": [
    "for line in open('45cm_1.00093.lvm'):\n",
    "    d=line.split()\n",
    "    if len(d)!=4:\n",
    "        continue\n",
    "    data_45_t=np.append(data_45_t,float(d[0])); data_45_wn=np.append(data_45_wn,float(d[1]))\n",
    "    data_45_r1=np.append(data_45_r1,float(d[2])); data_45_r2=np.append(data_45_r2,float(d[3]))\n",
    "  "
   ]
  },
  {
   "cell_type": "code",
   "execution_count": 15,
   "id": "3c2cecc0",
   "metadata": {},
   "outputs": [],
   "source": [
    "  \n",
    "for line in open('50cm_1.00107.lvm'):\n",
    "    d=line.split()\n",
    "    if len(d)!=4:\n",
    "        continue\n",
    "    data_50_t=np.append(data_50_t,float(d[0])); data_50_wn=np.append(data_50_wn,float(d[1]))\n",
    "    data_50_r1=np.append(data_50_r1,float(d[2])); data_50_r2=np.append(data_50_r2,float(d[3]))\n",
    "   "
   ]
  },
  {
   "cell_type": "code",
   "execution_count": 16,
   "id": "34a5e209",
   "metadata": {},
   "outputs": [],
   "source": [
    " \n",
    "for line in open('55cm_1.00121.lvm'):\n",
    "    d=line.split()\n",
    "    if len(d)!=4:\n",
    "        continue\n",
    "    data_55_t=np.append(data_55_t,float(d[0])); data_55_wn=np.append(data_55_wn,float(d[1]))\n",
    "    data_55_r1=np.append(data_55_r1,float(d[2])); data_55_r2=np.append(data_55_r2,float(d[3]))\n",
    "  "
   ]
  },
  {
   "cell_type": "code",
   "execution_count": 18,
   "id": "632d73ce",
   "metadata": {},
   "outputs": [],
   "source": [
    "  \n",
    "for line in open('60cm_1.00136.lvm'):\n",
    "    d=line.split()\n",
    "    if len(d)!=4:\n",
    "        continue\n",
    "    data_60_t=np.append(data_60_t,float(d[0])); data_60_wn=np.append(data_60_wn,float(d[1]))\n",
    "    data_60_r1=np.append(data_60_r1,float(d[2])); data_60_r2=np.append(data_60_r2,float(d[3]))\n",
    "   "
   ]
  },
  {
   "cell_type": "code",
   "execution_count": 19,
   "id": "9f83e75f",
   "metadata": {},
   "outputs": [],
   "source": [
    " \n",
    "for line in open('65cm_1.00153.lvm'):\n",
    "    d=line.split()\n",
    "    if len(d)!=4:\n",
    "        continue\n",
    "    data_65_t=np.append(data_65_t,float(d[0])); data_65_wn=np.append(data_65_wn,float(d[1]))\n",
    "    data_65_r1=np.append(data_65_r1,float(d[2])); data_65_r2=np.append(data_65_r2,float(d[3]))\n",
    "    "
   ]
  },
  {
   "cell_type": "code",
   "execution_count": 20,
   "id": "6256b135",
   "metadata": {},
   "outputs": [],
   "source": [
    "for line in open('70cm_1.00166.lvm'):\n",
    "    d=line.split()\n",
    "    if len(d)!=4:\n",
    "        continue\n",
    "    data_70_t=np.append(data_70_t,float(d[0])); data_70_wn=np.append(data_70_wn,float(d[1]))\n",
    "    data_70_r1=np.append(data_70_r1,float(d[2])); data_70_r2=np.append(data_70_r2,float(d[3]))\n",
    "    "
   ]
  },
  {
   "cell_type": "code",
   "execution_count": 21,
   "id": "d8a694cf",
   "metadata": {},
   "outputs": [],
   "source": [
    "for line in open('75cm_1.0018.lvm'):\n",
    "    d=line.split()\n",
    "    if len(d)!=4:\n",
    "        continue\n",
    "    data_75_t=np.append(data_75_t,float(d[0])); data_75_wn=np.append(data_75_wn,float(d[1]))\n",
    "    data_75_r1=np.append(data_75_r1,float(d[2])); data_75_r2=np.append(data_75_r2,float(d[3]))\n",
    "    "
   ]
  },
  {
   "cell_type": "code",
   "execution_count": 22,
   "id": "0a7b6d05",
   "metadata": {},
   "outputs": [],
   "source": [
    "for line in open('80cm_1.00196.lvm'):\n",
    "    d=line.split()\n",
    "    if len(d)!=4:\n",
    "        continue\n",
    "    data_80_t=np.append(data_80_t,float(d[0])); data_80_wn=np.append(data_80_wn,float(d[1]))\n",
    "    data_80_r1=np.append(data_80_r1,float(d[2])); data_80_r2=np.append(data_80_r2,float(d[3]))\n",
    "    "
   ]
  },
  {
   "cell_type": "code",
   "execution_count": 23,
   "id": "0da6bdf0",
   "metadata": {},
   "outputs": [],
   "source": [
    "for line in open('85cm_1.00208.lvm'):\n",
    "    d=line.split()\n",
    "    if len(d)!=4:\n",
    "        continue\n",
    "    data_85_t=np.append(data_85_t,float(d[0])); data_85_wn=np.append(data_85_wn,float(d[1]))\n",
    "    data_85_r1=np.append(data_85_r1,float(d[2])); data_85_r2=np.append(data_85_r2,float(d[3]))\n",
    "    "
   ]
  },
  {
   "cell_type": "code",
   "execution_count": 24,
   "id": "f0f9a559",
   "metadata": {},
   "outputs": [],
   "source": [
    "for line in open('90cm_1.00223.lvm'):\n",
    "    d=line.split()\n",
    "    if len(d)!=4:\n",
    "        continue\n",
    "    data_90_t=np.append(data_90_t,float(d[0])); data_90_wn=np.append(data_90_wn,float(d[1]))\n",
    "    data_90_r1=np.append(data_90_r1,float(d[2])); data_90_r2=np.append(data_90_r2,float(d[3]))\n",
    "    "
   ]
  },
  {
   "cell_type": "code",
   "execution_count": 25,
   "id": "6a01110c",
   "metadata": {},
   "outputs": [],
   "source": [
    "for line in open('95cm_1.00237.lvm'):\n",
    "    d=line.split()\n",
    "    if len(d)!=4:\n",
    "        continue\n",
    "    data_95_t=np.append(data_95_t,float(d[0])); data_95_wn=np.append(data_95_wn,float(d[1]))\n",
    "    data_95_r1=np.append(data_95_r1,float(d[2])); data_95_r2=np.append(data_95_r2,float(d[3]))"
   ]
  },
  {
   "cell_type": "code",
   "execution_count": null,
   "id": "7733e0af",
   "metadata": {},
   "outputs": [],
   "source": [
    "plt.plot(data_25_t,data_25_r2)\n",
    "plt.show()\n",
    "\n",
    "wn_25_ft=np.abs(fft.fft(data_25_wn))\n",
    "cc_25=np.correlate(data_25_r1,data_25_r2)\n",
    "\n",
    "plt.plot(1/data_25_t,wn_25_ft)\n",
    "plt.show()\n",
    "\n"
   ]
  },
  {
   "cell_type": "code",
   "execution_count": null,
   "id": "486c5e9a",
   "metadata": {},
   "outputs": [],
   "source": []
  }
 ],
 "metadata": {
  "kernelspec": {
   "display_name": "Python 3 (ipykernel)",
   "language": "python",
   "name": "python3"
  },
  "language_info": {
   "codemirror_mode": {
    "name": "ipython",
    "version": 3
   },
   "file_extension": ".py",
   "mimetype": "text/x-python",
   "name": "python",
   "nbconvert_exporter": "python",
   "pygments_lexer": "ipython3",
   "version": "3.8.10"
  }
 },
 "nbformat": 4,
 "nbformat_minor": 5
}
